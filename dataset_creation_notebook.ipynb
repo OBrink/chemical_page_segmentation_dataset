{
 "cells": [
  {
   "cell_type": "code",
   "execution_count": 1,
   "metadata": {},
   "outputs": [],
   "source": [
    "from PIL import Image, ImageFont, ImageDraw, ImageFilter, ImageStat\n",
    "\n",
    "from ChemPageSegmentationDatasetCreator import ChemPageSegmentationDatasetCreator as CPSD_creator"
   ]
  },
  {
   "cell_type": "markdown",
   "metadata": {},
   "source": [
    "## Generation of a single structure depiction with polygon coordinates around the chemical structure"
   ]
  },
  {
   "cell_type": "code",
   "execution_count": 2,
   "metadata": {},
   "outputs": [],
   "source": [
    "smiles = 'CN1C=NC2=C1C(=O)N(C(=O)N2C)C'\n",
    "dataset_creator = CPSD_creator([smiles], load_PLN_annotations=False)\n"
   ]
  },
  {
   "cell_type": "code",
   "execution_count": 5,
   "metadata": {},
   "outputs": [
    {
     "name": "stdout",
     "output_type": "stream",
     "text": [
      "CN1C=NC2=C1C(=O)N(C(=O)N2C)C\n"
     ]
    }
   ],
   "source": [
    "dataset_creator.PLN_annotations\n",
    "if dataset_creator.PLN_page_annotation_iterator:\n",
    "    print(next(dataset_creator.PLN_page_annotation_iterator))\n",
    "print(next(dataset_creator.smiles_iterator))"
   ]
  },
  {
   "cell_type": "code",
   "execution_count": null,
   "metadata": {},
   "outputs": [],
   "source": [
    "image, annotation = dataset_creator.generate_structure_and_annotation(smiles)\n",
    "image"
   ]
  },
  {
   "cell_type": "code",
   "execution_count": null,
   "metadata": {},
   "outputs": [],
   "source": [
    "annotation\n",
    "x_coords = annotation['regions'][0]['shape_attributes']['all_points_x']\n",
    "y_coords = annotation['regions'][0]['shape_attributes']['all_points_y']\n",
    "polygon = [(x_coords[n], y_coords[n]) for n in range(len(x_coords))]\n",
    "draw = ImageDraw.Draw(image, 'RGBA')\n",
    "draw.polygon(polygon, fill = (0,255,0,50))\n",
    "image\n"
   ]
  },
  {
   "cell_type": "markdown",
   "metadata": {},
   "source": [
    "## Generation of a single structure depiction and an ID label with polygon coordinates around both elements"
   ]
  },
  {
   "cell_type": "code",
   "execution_count": null,
   "metadata": {},
   "outputs": [],
   "source": [
    "image, annotation = dataset_creator.generate_structure_and_annotation(smiles, label=True)\n",
    "image\n"
   ]
  },
  {
   "cell_type": "code",
   "execution_count": null,
   "metadata": {},
   "outputs": [],
   "source": [
    "colour_dict = {\n",
    "    'chemical_structure': (0,255,0,50),\n",
    "    'chemical_ID': (255,0,0,50),\n",
    "}\n",
    "for region in annotation['regions']:\n",
    "    x_coords = region['shape_attributes']['all_points_x']\n",
    "    y_coords = region['shape_attributes']['all_points_y']\n",
    "    polygon = [(x_coords[n], y_coords[n]) for n in range(len(x_coords))]\n",
    "    draw = ImageDraw.Draw(image, 'RGBA')\n",
    "    colour = colour_dict[region['region_attributes']['type']]\n",
    "    draw.polygon(polygon, fill = colour)\n",
    "\n",
    "image"
   ]
  },
  {
   "cell_type": "code",
   "execution_count": null,
   "metadata": {},
   "outputs": [],
   "source": [
    "image, annotation = dataset_creator.create_reaction_scheme()\n",
    "image"
   ]
  },
  {
   "cell_type": "code",
   "execution_count": null,
   "metadata": {},
   "outputs": [],
   "source": [
    "colour_dict = {\n",
    "    'chemical_structure': (0,255,0,50),\n",
    "    'chemical_ID': (255,0,0,50),\n",
    "    'arrow': (0,0,255,50),\n",
    "    'R_group_label': (255,255,0,50),\n",
    "    'reaction_condition_label': (0,255,255,50)\n",
    "}\n",
    "annotation\n",
    "for region in annotation:\n",
    "    x_coords = region['shape_attributes']['all_points_x']\n",
    "    y_coords = region['shape_attributes']['all_points_y']\n",
    "    polygon = [(x_coords[n], y_coords[n]) for n in range(len(x_coords)) if len]\n",
    "    draw = ImageDraw.Draw(image, 'RGBA')\n",
    "    colour = colour_dict[region['region_attributes']['type']]\n",
    "    draw.polygon(polygon, fill = colour)\n",
    "\n",
    "image"
   ]
  },
  {
   "cell_type": "code",
   "execution_count": null,
   "metadata": {},
   "outputs": [],
   "source": []
  }
 ],
 "metadata": {
  "interpreter": {
   "hash": "3e8b1721f2bf43ba9f8301ee0f3035fe625f94398e3f584bb1fc64ceef358792"
  },
  "kernelspec": {
   "display_name": "ChemTextOCR",
   "language": "python",
   "name": "python3"
  },
  "language_info": {
   "codemirror_mode": {
    "name": "ipython",
    "version": 3
   },
   "file_extension": ".py",
   "mimetype": "text/x-python",
   "name": "python",
   "nbconvert_exporter": "python",
   "pygments_lexer": "ipython3",
   "version": "3.7.10"
  }
 },
 "nbformat": 4,
 "nbformat_minor": 4
}
